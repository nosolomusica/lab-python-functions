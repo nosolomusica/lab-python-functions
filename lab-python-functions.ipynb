{
 "cells": [
  {
   "cell_type": "markdown",
   "id": "25d7736c-ba17-4aff-b6bb-66eba20fbf4e",
   "metadata": {},
   "source": [
    "# Lab | Functions"
   ]
  },
  {
   "cell_type": "markdown",
   "id": "0c581062-8967-4d93-b06e-62833222f930",
   "metadata": {
    "tags": []
   },
   "source": [
    "## Exercise: Managing Customer Orders with Functions\n",
    "\n",
    "In the previous exercise, you improved the code for managing customer orders by using loops and flow control. Now, let's take it a step further and refactor the code by introducing functions.\n",
    "\n",
    "Follow the steps below to complete the exercise:\n",
    "\n",
    "1. Define a function named `initialize_inventory` that takes `products` as a parameter. Inside the function, implement the code for initializing the inventory dictionary using a loop and user input.\n",
    "\n",
    "2. Define a function named `get_customer_orders` that takes no parameters. Inside the function, implement the code for prompting the user to enter the product names using a loop. The function should return the `customer_orders` set.\n",
    "\n",
    "3. Define a function named `update_inventory` that takes `customer_orders` and `inventory` as parameters. Inside the function, implement the code for updating the inventory dictionary based on the customer orders.\n",
    "\n",
    "4. Define a function named `calculate_order_statistics` that takes `customer_orders` and `products` as parameters. Inside the function, implement the code for calculating the order statistics (total products ordered, and percentage of unique products ordered). The function should return these values.\n",
    "\n",
    "5. Define a function named `print_order_statistics` that takes `order_statistics` as a parameter. Inside the function, implement the code for printing the order statistics.\n",
    "\n",
    "6. Define a function named `print_updated_inventory` that takes `inventory` as a parameter. Inside the function, implement the code for printing the updated inventory.\n",
    "\n",
    "7. Call the functions in the appropriate sequence to execute the program and manage customer orders.\n",
    "\n",
    "Hints for functions:\n",
    "\n",
    "- Consider the input parameters required for each function and their return values.\n",
    "- Utilize function parameters and return values to transfer data between functions.\n",
    "- Test your functions individually to ensure they work correctly.\n",
    "\n",
    "\n"
   ]
  },
  {
   "cell_type": "code",
   "execution_count": 1,
   "id": "69db9b03-3544-4682-8e8f-22ce531d576a",
   "metadata": {},
   "outputs": [
    {
     "name": "stdin",
     "output_type": "stream",
     "text": [
      "Por favor introduce un producto ['t-shirt', 'mug', 'hat', 'book', 'keychain'] 3\n",
      "Por favor introduce un producto ['t-shirt', 'mug', 'hat', 'book', 'keychain'] 4\n",
      "Por favor introduce un producto ['t-shirt', 'mug', 'hat', 'book', 'keychain'] 2\n",
      "Por favor introduce un producto ['t-shirt', 'mug', 'hat', 'book', 'keychain'] 1\n",
      "Por favor introduce un producto ['t-shirt', 'mug', 'hat', 'book', 'keychain'] 3\n"
     ]
    },
    {
     "data": {
      "text/plain": [
       "{'t-shirt': 3, 'mug': 4, 'hat': 2, 'book': 1, 'keychain': 3}"
      ]
     },
     "execution_count": 1,
     "metadata": {},
     "output_type": "execute_result"
    }
   ],
   "source": [
    "#1\n",
    "\n",
    "products = [\"t-shirt\", \"mug\", \"hat\", \"book\", \"keychain\"]\n",
    "inventory= {}\n",
    "def initialize_inventory (lista):\n",
    "    for product in lista:\n",
    "        inventory[product]=int(input(f'Por favor introduce un producto {products}')) \n",
    "    return inventory\n",
    "\n",
    "initialize_inventory(products)"
   ]
  },
  {
   "cell_type": "code",
   "execution_count": 3,
   "id": "3ea61a53-2151-4a41-8120-11a9338f9f68",
   "metadata": {},
   "outputs": [],
   "source": [
    "#2\n",
    "customer_orders = set()\n",
    "\n",
    "def get_customer_orders () :\n",
    "    x=input(\"Por favor, ingrese el nombre de un producto que desee:\")\n",
    "    customer_orders.add(x)\n",
    "    respuesta = input('¿Quieres continuar comprando? Responde si/no:')\n",
    "\n",
    "    while respuesta.lower() == 'si':\n",
    "        x=input(\"Por favor, ingrese el nombre de un producto que desee:\")\n",
    "        customer_orders.add(x)\n",
    "        respuesta=input('Quiere continuar comprando? Responde si/no:').lower()\n",
    "    \n",
    "    print('Gracias por su compra')\n",
    "\n",
    "    return customer_orders\n",
    "  "
   ]
  },
  {
   "cell_type": "code",
   "execution_count": 5,
   "id": "9c508bbe-e462-4e12-806d-3a1449d473f2",
   "metadata": {},
   "outputs": [
    {
     "name": "stdin",
     "output_type": "stream",
     "text": [
      "Por favor, ingrese el nombre de un producto que desee: mug\n",
      "¿Quieres continuar comprando? Responde si/no: book\n"
     ]
    },
    {
     "name": "stdout",
     "output_type": "stream",
     "text": [
      "Gracias por su compra\n"
     ]
    },
    {
     "data": {
      "text/plain": [
       "{'mug'}"
      ]
     },
     "execution_count": 5,
     "metadata": {},
     "output_type": "execute_result"
    }
   ],
   "source": [
    "get_customer_orders()"
   ]
  },
  {
   "cell_type": "code",
   "execution_count": 7,
   "id": "fade01da-223d-4661-a2b8-d0ed02373076",
   "metadata": {},
   "outputs": [],
   "source": [
    "#3\n",
    "def update_inventory(customer_orders, inventory):\n",
    "    for product in customer_orders:\n",
    "        if product in inventory and inventory[product] > 0:\n",
    "            inventory[product] -= 1\n",
    "    return inventory"
   ]
  },
  {
   "cell_type": "code",
   "execution_count": 9,
   "id": "d3caf55c-7bb9-4069-88b4-33a1d59ba961",
   "metadata": {},
   "outputs": [
    {
     "data": {
      "text/plain": [
       "{'t-shirt': 3, 'mug': 3, 'hat': 2, 'book': 1, 'keychain': 3}"
      ]
     },
     "execution_count": 9,
     "metadata": {},
     "output_type": "execute_result"
    }
   ],
   "source": [
    "update_inventory(customer_orders, inventory)"
   ]
  },
  {
   "cell_type": "code",
   "execution_count": 15,
   "id": "deb9c20a-945c-4365-8455-567a94717360",
   "metadata": {},
   "outputs": [],
   "source": [
    "#4\n",
    "def calculate_order_statistics(customer_orders, products):\n",
    "    total_products_ordered = len(customer_orders)\n",
    "    porcentaje_productos_pedidos = (total_products_ordered / len(products)) * 100\n",
    "    return total_products_ordered, porcentaje_productos_pedidos\n"
   ]
  },
  {
   "cell_type": "code",
   "execution_count": 17,
   "id": "1a22c91d-00b4-4d06-b40e-2a8460194f7b",
   "metadata": {},
   "outputs": [
    {
     "data": {
      "text/plain": [
       "(1, 20.0)"
      ]
     },
     "execution_count": 17,
     "metadata": {},
     "output_type": "execute_result"
    }
   ],
   "source": [
    "calculate_order_statistics (customer_orders, products)\n"
   ]
  },
  {
   "cell_type": "code",
   "execution_count": 43,
   "id": "05bc58b8-885a-4d41-b7d0-d86fe19334f9",
   "metadata": {},
   "outputs": [],
   "source": [
    "order_statistics= calculate_order_statistics (customer_orders, products)\n"
   ]
  },
  {
   "cell_type": "code",
   "execution_count": 45,
   "id": "33e49a2e-6ce7-4a6c-8c41-c72dcb2235aa",
   "metadata": {},
   "outputs": [],
   "source": [
    "#5\n",
    "def print_order_statistics(order_statistics):\n",
    "    print(\"Order Statistics:\")\n",
    "    print(f\"Total Products Ordered: {order_statistics[0]}\")\n",
    "    print(f\"Percentage of Unique Products Ordered: {order_statistics[1]}%\")"
   ]
  },
  {
   "cell_type": "code",
   "execution_count": 47,
   "id": "d835173e-ec5b-492c-8fb8-7500c46f957e",
   "metadata": {},
   "outputs": [
    {
     "name": "stdout",
     "output_type": "stream",
     "text": [
      "Order Statistics:\n",
      "Total Products Ordered: 1\n",
      "Percentage of Unique Products Ordered: 20.0%\n"
     ]
    }
   ],
   "source": [
    "print_order_statistics(order_statistics)"
   ]
  },
  {
   "cell_type": "code",
   "execution_count": 49,
   "id": "8e83919c-7e01-44a1-94fe-ed4513d52cdc",
   "metadata": {},
   "outputs": [],
   "source": [
    "#6\n",
    "def print_updated_inventory (inventory) :\n",
    "    print(\"\\nUpdated Inventory:\")\n",
    "    for product, quantity in inventory.items():\n",
    "        print(f\"{product}: {quantity}\")\n",
    "    return inventory"
   ]
  },
  {
   "cell_type": "code",
   "execution_count": 53,
   "id": "ceafef83-7b1b-45e7-b092-3a8cdd8dbec4",
   "metadata": {},
   "outputs": [
    {
     "name": "stdout",
     "output_type": "stream",
     "text": [
      "\n",
      "Updated Inventory:\n",
      "t-shirt: 3\n",
      "mug: 3\n",
      "hat: 2\n",
      "book: 1\n",
      "keychain: 3\n"
     ]
    },
    {
     "data": {
      "text/plain": [
       "{'t-shirt': 3, 'mug': 3, 'hat': 2, 'book': 1, 'keychain': 3}"
      ]
     },
     "execution_count": 53,
     "metadata": {},
     "output_type": "execute_result"
    }
   ],
   "source": [
    "print_updated_inventory (inventory)"
   ]
  },
  {
   "cell_type": "code",
   "execution_count": 59,
   "id": "3f114290-0eef-4821-9b5d-6b7eb91c4101",
   "metadata": {},
   "outputs": [
    {
     "name": "stdin",
     "output_type": "stream",
     "text": [
      "Por favor introduce un producto ['t-shirt', 'mug', 'hat', 'book', 'keychain'] 1\n",
      "Por favor introduce un producto ['t-shirt', 'mug', 'hat', 'book', 'keychain'] 3\n",
      "Por favor introduce un producto ['t-shirt', 'mug', 'hat', 'book', 'keychain'] 4\n",
      "Por favor introduce un producto ['t-shirt', 'mug', 'hat', 'book', 'keychain'] 5\n",
      "Por favor introduce un producto ['t-shirt', 'mug', 'hat', 'book', 'keychain'] 6\n",
      "Por favor, ingrese el nombre de un producto que desee: mug\n",
      "¿Quieres continuar comprando? Responde si/no: \n"
     ]
    },
    {
     "name": "stdout",
     "output_type": "stream",
     "text": [
      "Gracias por su compra\n",
      "Order Statistics:\n",
      "Total Products Ordered: 1\n",
      "Percentage of Unique Products Ordered: 20.0%\n",
      "\n",
      "Updated Inventory:\n",
      "t-shirt: 1\n",
      "mug: 2\n",
      "hat: 4\n",
      "book: 5\n",
      "keychain: 6\n"
     ]
    },
    {
     "data": {
      "text/plain": [
       "{'t-shirt': 1, 'mug': 2, 'hat': 4, 'book': 5, 'keychain': 6}"
      ]
     },
     "execution_count": 59,
     "metadata": {},
     "output_type": "execute_result"
    }
   ],
   "source": [
    "#7\n",
    "initialize_inventory(products)\n",
    "get_customer_orders()\n",
    "update_inventory(customer_orders, inventory)\n",
    "calculate_order_statistics (customer_orders, products)\n",
    "print_order_statistics(order_statistics)\n",
    "print_updated_inventory (inventory)"
   ]
  },
  {
   "cell_type": "code",
   "execution_count": null,
   "id": "b7a7538f-8c38-4b1d-aa92-55f18d8a1197",
   "metadata": {},
   "outputs": [],
   "source": []
  }
 ],
 "metadata": {
  "kernelspec": {
   "display_name": "Python 3 (ipykernel)",
   "language": "python",
   "name": "python3"
  },
  "language_info": {
   "codemirror_mode": {
    "name": "ipython",
    "version": 3
   },
   "file_extension": ".py",
   "mimetype": "text/x-python",
   "name": "python",
   "nbconvert_exporter": "python",
   "pygments_lexer": "ipython3",
   "version": "3.12.4"
  }
 },
 "nbformat": 4,
 "nbformat_minor": 5
}
